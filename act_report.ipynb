{
 "cells": [
  {
   "cell_type": "markdown",
   "metadata": {},
   "source": [
    "## Acting on Wrangled Data"
   ]
  },
  {
   "cell_type": "markdown",
   "metadata": {},
   "source": [
    "Continuing working on datas precedently cleaned in ```wrangle_act.pynb```"
   ]
  },
  {
   "cell_type": "code",
   "execution_count": 2,
   "metadata": {},
   "outputs": [],
   "source": [
    "import pandas as pd\n",
    "import numpy as np\n",
    "import matplotlib.pyplot as plt\n",
    "import seaborn as sns\n",
    "%matplotlib inline"
   ]
  },
  {
   "cell_type": "code",
   "execution_count": 3,
   "metadata": {},
   "outputs": [],
   "source": [
    "df = pd.read_csv('twitter_master_dataset.csv')"
   ]
  },
  {
   "cell_type": "markdown",
   "metadata": {},
   "source": [
    "### Simple statistics on the data we have"
   ]
  },
  {
   "cell_type": "code",
   "execution_count": 4,
   "metadata": {},
   "outputs": [
    {
     "name": "stdout",
     "output_type": "stream",
     "text": [
      "<class 'pandas.core.frame.DataFrame'>\n",
      "RangeIndex: 1561 entries, 0 to 1560\n",
      "Data columns (total 18 columns):\n",
      "Unnamed: 0            1561 non-null int64\n",
      "tweet_id              1561 non-null int64\n",
      "timestamp             1561 non-null object\n",
      "source                0 non-null float64\n",
      "text                  1561 non-null object\n",
      "expanded_urls         1561 non-null object\n",
      "rating                1561 non-null int64\n",
      "name                  1561 non-null object\n",
      "stage                 1561 non-null object\n",
      "nb_favorites          1561 non-null int64\n",
      "nb_retweets           1561 non-null int64\n",
      "nb_user_followers     1561 non-null int64\n",
      "nb_user_favourites    1561 non-null int64\n",
      "creation_date         1561 non-null object\n",
      "jpg_url               1561 non-null object\n",
      "img_num               1561 non-null int64\n",
      "prediction            1561 non-null object\n",
      "confidence            1561 non-null int64\n",
      "dtypes: float64(1), int64(9), object(8)\n",
      "memory usage: 219.6+ KB\n"
     ]
    }
   ],
   "source": [
    "df.info()"
   ]
  },
  {
   "cell_type": "code",
   "execution_count": 5,
   "metadata": {},
   "outputs": [
    {
     "data": {
      "text/html": [
       "<div>\n",
       "<style scoped>\n",
       "    .dataframe tbody tr th:only-of-type {\n",
       "        vertical-align: middle;\n",
       "    }\n",
       "\n",
       "    .dataframe tbody tr th {\n",
       "        vertical-align: top;\n",
       "    }\n",
       "\n",
       "    .dataframe thead th {\n",
       "        text-align: right;\n",
       "    }\n",
       "</style>\n",
       "<table border=\"1\" class=\"dataframe\">\n",
       "  <thead>\n",
       "    <tr style=\"text-align: right;\">\n",
       "      <th></th>\n",
       "      <th>rating</th>\n",
       "      <th>nb_retweets</th>\n",
       "      <th>nb_favorites</th>\n",
       "      <th>confidence</th>\n",
       "    </tr>\n",
       "  </thead>\n",
       "  <tbody>\n",
       "    <tr>\n",
       "      <th>count</th>\n",
       "      <td>1561.000000</td>\n",
       "      <td>1561.000000</td>\n",
       "      <td>1561.000000</td>\n",
       "      <td>1561.000000</td>\n",
       "    </tr>\n",
       "    <tr>\n",
       "      <th>mean</th>\n",
       "      <td>10.861627</td>\n",
       "      <td>2555.532351</td>\n",
       "      <td>8814.748238</td>\n",
       "      <td>54.651505</td>\n",
       "    </tr>\n",
       "    <tr>\n",
       "      <th>std</th>\n",
       "      <td>1.746812</td>\n",
       "      <td>4616.444958</td>\n",
       "      <td>12763.369094</td>\n",
       "      <td>29.992739</td>\n",
       "    </tr>\n",
       "    <tr>\n",
       "      <th>min</th>\n",
       "      <td>2.000000</td>\n",
       "      <td>11.000000</td>\n",
       "      <td>72.000000</td>\n",
       "      <td>0.000000</td>\n",
       "    </tr>\n",
       "    <tr>\n",
       "      <th>25%</th>\n",
       "      <td>10.000000</td>\n",
       "      <td>593.000000</td>\n",
       "      <td>2071.000000</td>\n",
       "      <td>30.000000</td>\n",
       "    </tr>\n",
       "    <tr>\n",
       "      <th>50%</th>\n",
       "      <td>11.000000</td>\n",
       "      <td>1295.000000</td>\n",
       "      <td>4134.000000</td>\n",
       "      <td>54.000000</td>\n",
       "    </tr>\n",
       "    <tr>\n",
       "      <th>75%</th>\n",
       "      <td>12.000000</td>\n",
       "      <td>2902.000000</td>\n",
       "      <td>11083.000000</td>\n",
       "      <td>82.000000</td>\n",
       "    </tr>\n",
       "    <tr>\n",
       "      <th>max</th>\n",
       "      <td>14.000000</td>\n",
       "      <td>78029.000000</td>\n",
       "      <td>156603.000000</td>\n",
       "      <td>99.000000</td>\n",
       "    </tr>\n",
       "  </tbody>\n",
       "</table>\n",
       "</div>"
      ],
      "text/plain": [
       "            rating   nb_retweets   nb_favorites   confidence\n",
       "count  1561.000000   1561.000000    1561.000000  1561.000000\n",
       "mean     10.861627   2555.532351    8814.748238    54.651505\n",
       "std       1.746812   4616.444958   12763.369094    29.992739\n",
       "min       2.000000     11.000000      72.000000     0.000000\n",
       "25%      10.000000    593.000000    2071.000000    30.000000\n",
       "50%      11.000000   1295.000000    4134.000000    54.000000\n",
       "75%      12.000000   2902.000000   11083.000000    82.000000\n",
       "max      14.000000  78029.000000  156603.000000    99.000000"
      ]
     },
     "execution_count": 5,
     "metadata": {},
     "output_type": "execute_result"
    }
   ],
   "source": [
    "df[['rating', 'nb_retweets', 'nb_favorites', 'confidence']].describe()"
   ]
  },
  {
   "cell_type": "markdown",
   "metadata": {},
   "source": [
    "### Distribution of the Race of Dogs"
   ]
  },
  {
   "cell_type": "code",
   "execution_count": 6,
   "metadata": {},
   "outputs": [],
   "source": [
    "# Which dog is the most present\n",
    "topRaces = df['prediction'].value_counts().head(10)\n",
    "topRaces = topRaces.reset_index()\n",
    "topRaces.rename(columns={'index':'dog_name', 'prediction':'count'}, inplace=True)\n",
    "topRaces['dog_name'] = topRaces.replace(to_replace=r'_', value=' ', regex=True)['dog_name'].str.title()"
   ]
  },
  {
   "cell_type": "code",
   "execution_count": 7,
   "metadata": {},
   "outputs": [
    {
     "data": {
      "text/plain": [
       "Text(0.5, 1.0, 'Top 10 Dogs Race')"
      ]
     },
     "execution_count": 7,
     "metadata": {},
     "output_type": "execute_result"
    },
    {
     "data": {
      "image/png": "[encoded data removed]",
      "text/plain": [
       "<Figure size 432x288 with 1 Axes>"
      ]
     },
     "metadata": {
      "needs_background": "light"
     },
     "output_type": "display_data"
    }
   ],
   "source": [
    "sns.barplot(x=topRaces['dog_name'], y=topRaces['count'])\n",
    "plt.xticks(rotation=90)\n",
    "plt.xlabel('Dog Name')\n",
    "plt.ylabel('Count')\n",
    "plt.title('Top 10 Dogs Race')"
   ]
  },
  {
   "cell_type": "markdown",
   "metadata": {},
   "source": [
    "We can see than ```Golden Retriever``` is highly represented in all those tweets (most photoigenic dog ?). Then, you find another ```Retriever``` (but a ```Labrador```) and a ```Pembroke```"
   ]
  },
  {
   "cell_type": "markdown",
   "metadata": {},
   "source": [
    "### What about all the votes ?"
   ]
  },
  {
   "cell_type": "code",
   "execution_count": 8,
   "metadata": {},
   "outputs": [
    {
     "data": {
      "image/png": "[encoded data removed]",
      "text/plain": [
       "<Figure size 432x288 with 1 Axes>"
      ]
     },
     "metadata": {
      "needs_background": "light"
     },
     "output_type": "display_data"
    }
   ],
   "source": [
    "df['rating'].plot(kind = 'hist', bins = 12)\n",
    "\n",
    "plt.xlim(0, 15)\n",
    "plt.ylabel('Number of Tweets', fontsize = 14)\n",
    "plt.xlabel('Rating', fontsize = 14)\n",
    "plt.title('Distribution of Ratings', fontsize = 16)\n",
    "plt.show();"
   ]
  },
  {
   "cell_type": "markdown",
   "metadata": {},
   "source": [
    "We can see that this graph is skewed to the left. The most votes are between 8 and 14, and the most votes are between 10 and 13 inclusive. This is completely understandable just because `aren't those puppies not always cute ?``"
   ]
  },
  {
   "cell_type": "code",
   "execution_count": null,
   "metadata": {},
   "outputs": [],
   "source": []
  },
  {
   "cell_type": "code",
   "execution_count": 9,
   "metadata": {},
   "outputs": [
    {
     "data": {
      "text/html": [
       "<div>\n",
       "<style scoped>\n",
       "    .dataframe tbody tr th:only-of-type {\n",
       "        vertical-align: middle;\n",
       "    }\n",
       "\n",
       "    .dataframe tbody tr th {\n",
       "        vertical-align: top;\n",
       "    }\n",
       "\n",
       "    .dataframe thead th {\n",
       "        text-align: right;\n",
       "    }\n",
       "</style>\n",
       "<table border=\"1\" class=\"dataframe\">\n",
       "  <thead>\n",
       "    <tr style=\"text-align: right;\">\n",
       "      <th></th>\n",
       "      <th>Unnamed: 0</th>\n",
       "      <th>tweet_id</th>\n",
       "      <th>timestamp</th>\n",
       "      <th>source</th>\n",
       "      <th>text</th>\n",
       "      <th>expanded_urls</th>\n",
       "      <th>rating</th>\n",
       "      <th>name</th>\n",
       "      <th>stage</th>\n",
       "      <th>nb_favorites</th>\n",
       "      <th>nb_retweets</th>\n",
       "      <th>nb_user_followers</th>\n",
       "      <th>nb_user_favourites</th>\n",
       "      <th>creation_date</th>\n",
       "      <th>jpg_url</th>\n",
       "      <th>img_num</th>\n",
       "      <th>prediction</th>\n",
       "      <th>confidence</th>\n",
       "    </tr>\n",
       "  </thead>\n",
       "  <tbody>\n",
       "    <tr>\n",
       "      <th>660</th>\n",
       "      <td>660</td>\n",
       "      <td>744234799360020481</td>\n",
       "      <td>2016-06-18 18:26:18+00:00</td>\n",
       "      <td>NaN</td>\n",
       "      <td>Here's a doggo realizing you can stand in a po...</td>\n",
       "      <td>https://twitter.com/dog_rates/status/744234799...</td>\n",
       "      <td>13</td>\n",
       "      <td>None</td>\n",
       "      <td>doggo</td>\n",
       "      <td>156603</td>\n",
       "      <td>78029</td>\n",
       "      <td>8774908</td>\n",
       "      <td>146020</td>\n",
       "      <td>2016-06-18 18:26:18+00:00</td>\n",
       "      <td>https://pbs.twimg.com/ext_tw_video_thumb/74423...</td>\n",
       "      <td>1</td>\n",
       "      <td>Labrador_retriever</td>\n",
       "      <td>82</td>\n",
       "    </tr>\n",
       "    <tr>\n",
       "      <th>684</th>\n",
       "      <td>684</td>\n",
       "      <td>739238157791694849</td>\n",
       "      <td>2016-06-04 23:31:25+00:00</td>\n",
       "      <td>NaN</td>\n",
       "      <td>Here's a doggo blowing bubbles. It's downright...</td>\n",
       "      <td>https://twitter.com/dog_rates/status/739238157...</td>\n",
       "      <td>13</td>\n",
       "      <td>None</td>\n",
       "      <td>doggo</td>\n",
       "      <td>115673</td>\n",
       "      <td>57845</td>\n",
       "      <td>8774908</td>\n",
       "      <td>146020</td>\n",
       "      <td>2016-06-04 23:31:25+00:00</td>\n",
       "      <td>https://pbs.twimg.com/ext_tw_video_thumb/73923...</td>\n",
       "      <td>1</td>\n",
       "      <td>Eskimo_dog</td>\n",
       "      <td>50</td>\n",
       "    </tr>\n",
       "    <tr>\n",
       "      <th>349</th>\n",
       "      <td>349</td>\n",
       "      <td>807106840509214720</td>\n",
       "      <td>2016-12-09 06:17:20+00:00</td>\n",
       "      <td>NaN</td>\n",
       "      <td>This is Stephan. He just wants to help. 13/10 ...</td>\n",
       "      <td>https://twitter.com/dog_rates/status/807106840...</td>\n",
       "      <td>13</td>\n",
       "      <td>Stephan</td>\n",
       "      <td>none</td>\n",
       "      <td>120974</td>\n",
       "      <td>56887</td>\n",
       "      <td>8774888</td>\n",
       "      <td>146020</td>\n",
       "      <td>2016-12-09 06:17:20+00:00</td>\n",
       "      <td>https://pbs.twimg.com/ext_tw_video_thumb/80710...</td>\n",
       "      <td>1</td>\n",
       "      <td>Chihuahua</td>\n",
       "      <td>50</td>\n",
       "    </tr>\n",
       "    <tr>\n",
       "      <th>266</th>\n",
       "      <td>266</td>\n",
       "      <td>822872901745569793</td>\n",
       "      <td>2017-01-21 18:26:02+00:00</td>\n",
       "      <td>NaN</td>\n",
       "      <td>Here's a super supportive puppo participating ...</td>\n",
       "      <td>https://twitter.com/dog_rates/status/822872901...</td>\n",
       "      <td>13</td>\n",
       "      <td>None</td>\n",
       "      <td>puppo</td>\n",
       "      <td>133372</td>\n",
       "      <td>43960</td>\n",
       "      <td>8774888</td>\n",
       "      <td>146020</td>\n",
       "      <td>2017-01-21 18:26:02+00:00</td>\n",
       "      <td>https://pbs.twimg.com/media/C2tugXLXgAArJO4.jpg</td>\n",
       "      <td>1</td>\n",
       "      <td>Lakeland_terrier</td>\n",
       "      <td>19</td>\n",
       "    </tr>\n",
       "    <tr>\n",
       "      <th>52</th>\n",
       "      <td>52</td>\n",
       "      <td>879415818425184262</td>\n",
       "      <td>2017-06-26 19:07:24+00:00</td>\n",
       "      <td>NaN</td>\n",
       "      <td>This is Duddles. He did an attempt. 13/10 some...</td>\n",
       "      <td>https://twitter.com/dog_rates/status/879415818...</td>\n",
       "      <td>13</td>\n",
       "      <td>Duddles</td>\n",
       "      <td>none</td>\n",
       "      <td>99473</td>\n",
       "      <td>40697</td>\n",
       "      <td>8774884</td>\n",
       "      <td>146020</td>\n",
       "      <td>2017-06-26 19:07:24+00:00</td>\n",
       "      <td>https://pbs.twimg.com/ext_tw_video_thumb/87941...</td>\n",
       "      <td>1</td>\n",
       "      <td>English_springer</td>\n",
       "      <td>38</td>\n",
       "    </tr>\n",
       "  </tbody>\n",
       "</table>\n",
       "</div>"
      ],
      "text/plain": [
       "     Unnamed: 0            tweet_id                  timestamp  source  \\\n",
       "660         660  744234799360020481  2016-06-18 18:26:18+00:00     NaN   \n",
       "684         684  739238157791694849  2016-06-04 23:31:25+00:00     NaN   \n",
       "349         349  807106840509214720  2016-12-09 06:17:20+00:00     NaN   \n",
       "266         266  822872901745569793  2017-01-21 18:26:02+00:00     NaN   \n",
       "52           52  879415818425184262  2017-06-26 19:07:24+00:00     NaN   \n",
       "\n",
       "                                                  text  \\\n",
       "660  Here's a doggo realizing you can stand in a po...   \n",
       "684  Here's a doggo blowing bubbles. It's downright...   \n",
       "349  This is Stephan. He just wants to help. 13/10 ...   \n",
       "266  Here's a super supportive puppo participating ...   \n",
       "52   This is Duddles. He did an attempt. 13/10 some...   \n",
       "\n",
       "                                         expanded_urls  rating     name  \\\n",
       "660  https://twitter.com/dog_rates/status/744234799...      13     None   \n",
       "684  https://twitter.com/dog_rates/status/739238157...      13     None   \n",
       "349  https://twitter.com/dog_rates/status/807106840...      13  Stephan   \n",
       "266  https://twitter.com/dog_rates/status/822872901...      13     None   \n",
       "52   https://twitter.com/dog_rates/status/879415818...      13  Duddles   \n",
       "\n",
       "     stage  nb_favorites  nb_retweets  nb_user_followers  nb_user_favourites  \\\n",
       "660  doggo        156603        78029            8774908              146020   \n",
       "684  doggo        115673        57845            8774908              146020   \n",
       "349   none        120974        56887            8774888              146020   \n",
       "266  puppo        133372        43960            8774888              146020   \n",
       "52    none         99473        40697            8774884              146020   \n",
       "\n",
       "                 creation_date  \\\n",
       "660  2016-06-18 18:26:18+00:00   \n",
       "684  2016-06-04 23:31:25+00:00   \n",
       "349  2016-12-09 06:17:20+00:00   \n",
       "266  2017-01-21 18:26:02+00:00   \n",
       "52   2017-06-26 19:07:24+00:00   \n",
       "\n",
       "                                               jpg_url  img_num  \\\n",
       "660  https://pbs.twimg.com/ext_tw_video_thumb/74423...        1   \n",
       "684  https://pbs.twimg.com/ext_tw_video_thumb/73923...        1   \n",
       "349  https://pbs.twimg.com/ext_tw_video_thumb/80710...        1   \n",
       "266    https://pbs.twimg.com/media/C2tugXLXgAArJO4.jpg        1   \n",
       "52   https://pbs.twimg.com/ext_tw_video_thumb/87941...        1   \n",
       "\n",
       "             prediction  confidence  \n",
       "660  Labrador_retriever          82  \n",
       "684          Eskimo_dog          50  \n",
       "349           Chihuahua          50  \n",
       "266    Lakeland_terrier          19  \n",
       "52     English_springer          38  "
      ]
     },
     "execution_count": 9,
     "metadata": {},
     "output_type": "execute_result"
    }
   ],
   "source": [
    "df.sort_values(by = 'nb_retweets', ascending = False).head(5)"
   ]
  },
  {
   "cell_type": "code",
   "execution_count": 10,
   "metadata": {},
   "outputs": [
    {
     "data": {
      "text/html": [
       "<div>\n",
       "<style scoped>\n",
       "    .dataframe tbody tr th:only-of-type {\n",
       "        vertical-align: middle;\n",
       "    }\n",
       "\n",
       "    .dataframe tbody tr th {\n",
       "        vertical-align: top;\n",
       "    }\n",
       "\n",
       "    .dataframe thead th {\n",
       "        text-align: right;\n",
       "    }\n",
       "</style>\n",
       "<table border=\"1\" class=\"dataframe\">\n",
       "  <thead>\n",
       "    <tr style=\"text-align: right;\">\n",
       "      <th></th>\n",
       "      <th>Unnamed: 0</th>\n",
       "      <th>tweet_id</th>\n",
       "      <th>timestamp</th>\n",
       "      <th>source</th>\n",
       "      <th>text</th>\n",
       "      <th>expanded_urls</th>\n",
       "      <th>rating</th>\n",
       "      <th>name</th>\n",
       "      <th>stage</th>\n",
       "      <th>nb_favorites</th>\n",
       "      <th>nb_retweets</th>\n",
       "      <th>nb_user_followers</th>\n",
       "      <th>nb_user_favourites</th>\n",
       "      <th>creation_date</th>\n",
       "      <th>jpg_url</th>\n",
       "      <th>img_num</th>\n",
       "      <th>prediction</th>\n",
       "      <th>confidence</th>\n",
       "    </tr>\n",
       "  </thead>\n",
       "  <tbody>\n",
       "    <tr>\n",
       "      <th>660</th>\n",
       "      <td>660</td>\n",
       "      <td>744234799360020481</td>\n",
       "      <td>2016-06-18 18:26:18+00:00</td>\n",
       "      <td>NaN</td>\n",
       "      <td>Here's a doggo realizing you can stand in a po...</td>\n",
       "      <td>https://twitter.com/dog_rates/status/744234799...</td>\n",
       "      <td>13</td>\n",
       "      <td>None</td>\n",
       "      <td>doggo</td>\n",
       "      <td>156603</td>\n",
       "      <td>78029</td>\n",
       "      <td>8774908</td>\n",
       "      <td>146020</td>\n",
       "      <td>2016-06-18 18:26:18+00:00</td>\n",
       "      <td>https://pbs.twimg.com/ext_tw_video_thumb/74423...</td>\n",
       "      <td>1</td>\n",
       "      <td>Labrador_retriever</td>\n",
       "      <td>82</td>\n",
       "    </tr>\n",
       "    <tr>\n",
       "      <th>266</th>\n",
       "      <td>266</td>\n",
       "      <td>822872901745569793</td>\n",
       "      <td>2017-01-21 18:26:02+00:00</td>\n",
       "      <td>NaN</td>\n",
       "      <td>Here's a super supportive puppo participating ...</td>\n",
       "      <td>https://twitter.com/dog_rates/status/822872901...</td>\n",
       "      <td>13</td>\n",
       "      <td>None</td>\n",
       "      <td>puppo</td>\n",
       "      <td>133372</td>\n",
       "      <td>43960</td>\n",
       "      <td>8774888</td>\n",
       "      <td>146020</td>\n",
       "      <td>2017-01-21 18:26:02+00:00</td>\n",
       "      <td>https://pbs.twimg.com/media/C2tugXLXgAArJO4.jpg</td>\n",
       "      <td>1</td>\n",
       "      <td>Lakeland_terrier</td>\n",
       "      <td>19</td>\n",
       "    </tr>\n",
       "    <tr>\n",
       "      <th>349</th>\n",
       "      <td>349</td>\n",
       "      <td>807106840509214720</td>\n",
       "      <td>2016-12-09 06:17:20+00:00</td>\n",
       "      <td>NaN</td>\n",
       "      <td>This is Stephan. He just wants to help. 13/10 ...</td>\n",
       "      <td>https://twitter.com/dog_rates/status/807106840...</td>\n",
       "      <td>13</td>\n",
       "      <td>Stephan</td>\n",
       "      <td>none</td>\n",
       "      <td>120974</td>\n",
       "      <td>56887</td>\n",
       "      <td>8774888</td>\n",
       "      <td>146020</td>\n",
       "      <td>2016-12-09 06:17:20+00:00</td>\n",
       "      <td>https://pbs.twimg.com/ext_tw_video_thumb/80710...</td>\n",
       "      <td>1</td>\n",
       "      <td>Chihuahua</td>\n",
       "      <td>50</td>\n",
       "    </tr>\n",
       "    <tr>\n",
       "      <th>98</th>\n",
       "      <td>98</td>\n",
       "      <td>866450705531457537</td>\n",
       "      <td>2017-05-22 00:28:40+00:00</td>\n",
       "      <td>NaN</td>\n",
       "      <td>This is Jamesy. He gives a kiss to every other...</td>\n",
       "      <td>https://twitter.com/dog_rates/status/866450705...</td>\n",
       "      <td>13</td>\n",
       "      <td>Jamesy</td>\n",
       "      <td>pupper</td>\n",
       "      <td>116677</td>\n",
       "      <td>33043</td>\n",
       "      <td>8774884</td>\n",
       "      <td>146020</td>\n",
       "      <td>2017-05-22 00:28:40+00:00</td>\n",
       "      <td>https://pbs.twimg.com/media/DAZAUfBXcAAG_Nn.jpg</td>\n",
       "      <td>2</td>\n",
       "      <td>French_bulldog</td>\n",
       "      <td>90</td>\n",
       "    </tr>\n",
       "    <tr>\n",
       "      <th>684</th>\n",
       "      <td>684</td>\n",
       "      <td>739238157791694849</td>\n",
       "      <td>2016-06-04 23:31:25+00:00</td>\n",
       "      <td>NaN</td>\n",
       "      <td>Here's a doggo blowing bubbles. It's downright...</td>\n",
       "      <td>https://twitter.com/dog_rates/status/739238157...</td>\n",
       "      <td>13</td>\n",
       "      <td>None</td>\n",
       "      <td>doggo</td>\n",
       "      <td>115673</td>\n",
       "      <td>57845</td>\n",
       "      <td>8774908</td>\n",
       "      <td>146020</td>\n",
       "      <td>2016-06-04 23:31:25+00:00</td>\n",
       "      <td>https://pbs.twimg.com/ext_tw_video_thumb/73923...</td>\n",
       "      <td>1</td>\n",
       "      <td>Eskimo_dog</td>\n",
       "      <td>50</td>\n",
       "    </tr>\n",
       "  </tbody>\n",
       "</table>\n",
       "</div>"
      ],
      "text/plain": [
       "     Unnamed: 0            tweet_id                  timestamp  source  \\\n",
       "660         660  744234799360020481  2016-06-18 18:26:18+00:00     NaN   \n",
       "266         266  822872901745569793  2017-01-21 18:26:02+00:00     NaN   \n",
       "349         349  807106840509214720  2016-12-09 06:17:20+00:00     NaN   \n",
       "98           98  866450705531457537  2017-05-22 00:28:40+00:00     NaN   \n",
       "684         684  739238157791694849  2016-06-04 23:31:25+00:00     NaN   \n",
       "\n",
       "                                                  text  \\\n",
       "660  Here's a doggo realizing you can stand in a po...   \n",
       "266  Here's a super supportive puppo participating ...   \n",
       "349  This is Stephan. He just wants to help. 13/10 ...   \n",
       "98   This is Jamesy. He gives a kiss to every other...   \n",
       "684  Here's a doggo blowing bubbles. It's downright...   \n",
       "\n",
       "                                         expanded_urls  rating     name  \\\n",
       "660  https://twitter.com/dog_rates/status/744234799...      13     None   \n",
       "266  https://twitter.com/dog_rates/status/822872901...      13     None   \n",
       "349  https://twitter.com/dog_rates/status/807106840...      13  Stephan   \n",
       "98   https://twitter.com/dog_rates/status/866450705...      13   Jamesy   \n",
       "684  https://twitter.com/dog_rates/status/739238157...      13     None   \n",
       "\n",
       "      stage  nb_favorites  nb_retweets  nb_user_followers  nb_user_favourites  \\\n",
       "660   doggo        156603        78029            8774908              146020   \n",
       "266   puppo        133372        43960            8774888              146020   \n",
       "349    none        120974        56887            8774888              146020   \n",
       "98   pupper        116677        33043            8774884              146020   \n",
       "684   doggo        115673        57845            8774908              146020   \n",
       "\n",
       "                 creation_date  \\\n",
       "660  2016-06-18 18:26:18+00:00   \n",
       "266  2017-01-21 18:26:02+00:00   \n",
       "349  2016-12-09 06:17:20+00:00   \n",
       "98   2017-05-22 00:28:40+00:00   \n",
       "684  2016-06-04 23:31:25+00:00   \n",
       "\n",
       "                                               jpg_url  img_num  \\\n",
       "660  https://pbs.twimg.com/ext_tw_video_thumb/74423...        1   \n",
       "266    https://pbs.twimg.com/media/C2tugXLXgAArJO4.jpg        1   \n",
       "349  https://pbs.twimg.com/ext_tw_video_thumb/80710...        1   \n",
       "98     https://pbs.twimg.com/media/DAZAUfBXcAAG_Nn.jpg        2   \n",
       "684  https://pbs.twimg.com/ext_tw_video_thumb/73923...        1   \n",
       "\n",
       "             prediction  confidence  \n",
       "660  Labrador_retriever          82  \n",
       "266    Lakeland_terrier          19  \n",
       "349           Chihuahua          50  \n",
       "98       French_bulldog          90  \n",
       "684          Eskimo_dog          50  "
      ]
     },
     "execution_count": 10,
     "metadata": {},
     "output_type": "execute_result"
    }
   ],
   "source": [
    "df.sort_values(by = 'nb_favorites', ascending = False).head(5)"
   ]
  },
  {
   "cell_type": "markdown",
   "metadata": {},
   "source": [
    "### Retweets vs Favorites, a possible correlation ?"
   ]
  },
  {
   "cell_type": "code",
   "execution_count": 11,
   "metadata": {
    "scrolled": true
   },
   "outputs": [
    {
     "data": {
      "text/plain": [
       "Text(0.5, 1.0, 'Nb retweets vs nb favorites')"
      ]
     },
     "execution_count": 11,
     "metadata": {},
     "output_type": "execute_result"
    },
    {
     "data": {
      "image/png": "[encoded data removed]",
      "text/plain": [
       "<Figure size 432x288 with 1 Axes>"
      ]
     },
     "metadata": {
      "needs_background": "light"
     },
     "output_type": "display_data"
    }
   ],
   "source": [
    "# Let's look if there is a correlation between retweet and favorites\n",
    "df.plot(kind='scatter',x='nb_favorites',y='nb_retweets', alpha = 0.5)\n",
    "plt.xlabel('the number of favorites')\n",
    "plt.ylabel('the number of retweets')\n",
    "plt.title('Nb retweets vs nb favorites')"
   ]
  },
  {
   "cell_type": "markdown",
   "metadata": {},
   "source": [
    "There really seems to be a correlation between number of retweets and favorites. We can assume also that there is always more favorites than retweets. "
   ]
  },
  {
   "cell_type": "markdown",
   "metadata": {},
   "source": [
    "### Conclusion"
   ]
  },
  {
   "cell_type": "markdown",
   "metadata": {},
   "source": [
    "The top 3 of the most dog types are **Golden Retriever**, **Labrador Retriever** and **Pembroke** (see the graph for the detail list)\n",
    "\n",
    "I noticed that there is a real correlation between Retweets and Favorites. Those 2 behaviours depict the reaction of the humans reading and showing their interest into those tweets (positive vibes).\n",
    "\n",
    "While looking to the histogram depicting ratings, I realised that generally rating is over 10 (and more particularly between 10 and 13). The mean value is 10.86. This may say that everybody find those dogs so cute and funny that they just have to overrate those pictures."
   ]
  },
  {
   "cell_type": "code",
   "execution_count": null,
   "metadata": {},
   "outputs": [],
   "source": []
  }
 ],
 "metadata": {
  "kernelspec": {
   "display_name": "Python 3",
   "language": "python",
   "name": "python3"
  },
  "language_info": {
   "codemirror_mode": {
    "name": "ipython",
    "version": 3
   },
   "file_extension": ".py",
   "mimetype": "text/x-python",
   "name": "python",
   "nbconvert_exporter": "python",
   "pygments_lexer": "ipython3",
   "version": "3.7.6"
  }
 },
 "nbformat": 4,
 "nbformat_minor": 4
}
